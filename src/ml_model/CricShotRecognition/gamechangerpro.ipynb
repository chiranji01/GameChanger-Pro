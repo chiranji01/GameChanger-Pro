{
 "cells": [
  {
   "cell_type": "code",
   "execution_count": 4,
   "id": "5abe49b7",
   "metadata": {},
   "outputs": [],
   "source": [
    "import os\n",
    "import numpy as np\n",
    "import matplotlib.pyplot as plt\n",
    "import tensorflow as tf\n",
    "from tensorflow.keras.preprocessing.image import ImageDataGenerator\n",
    "from tensorflow.keras.models import Sequential\n",
    "from tensorflow.keras.layers import Conv2D, MaxPooling2D, Flatten, Dense\n"
   ]
  },
  {
   "cell_type": "code",
   "execution_count": 5,
   "id": "889f741d",
   "metadata": {},
   "outputs": [
    {
     "name": "stdout",
     "output_type": "stream",
     "text": [
      "Found 6187 images belonging to 8 classes.\n",
      "Found 1546 images belonging to 8 classes.\n",
      "{'coverdrive': 0, 'cut': 1, 'drive': 2, 'legglance': 3, 'pullshot': 4, 'scoop': 5, 'straightdrive': 6, 'sweep': 7}\n"
     ]
    }
   ],
   "source": [
    "# Path to image folder\n",
    "image_folder = r'C:\\Users\\CHIRANJI\\Desktop\\cricdatasetsimages'\n",
    "\n",
    "# Define image dimensions and batch size\n",
    "img_width, img_height = 150, 150\n",
    "batch_size = 32\n",
    "\n",
    "# Create ImageDataGenerator for data augmentation and preprocessing\n",
    "datagen = ImageDataGenerator(\n",
    "    rescale=1./255,\n",
    "    shear_range=0.2,\n",
    "    zoom_range=0.2,\n",
    "    horizontal_flip=True,\n",
    "    validation_split=0.2\n",
    ")\n",
    "\n",
    "# Load and preprocess images from directory\n",
    "train_generator = datagen.flow_from_directory(\n",
    "    image_folder,\n",
    "    target_size=(img_width, img_height),\n",
    "    batch_size=batch_size,\n",
    "    class_mode='categorical',\n",
    "    subset='training'\n",
    ")\n",
    "\n",
    "validation_generator = datagen.flow_from_directory(\n",
    "    image_folder,\n",
    "    target_size=(img_width, img_height),\n",
    "    batch_size=batch_size,\n",
    "    class_mode='categorical',\n",
    "    subset='validation'\n",
    ")\n",
    "\n",
    "# Ensure the correct number of classes\n",
    "num_classes = 4  # Number of classes (drive, leg glance-flick, pull shot, sweep)\n",
    "\n",
    "# Check the label encoding\n",
    "print(train_generator.class_indices)\n",
    "\n",
    "\n"
   ]
  },
  {
   "cell_type": "code",
   "execution_count": 6,
   "id": "01ed9d1f",
   "metadata": {},
   "outputs": [],
   "source": [
    "model = Sequential([\n",
    "    Conv2D(32, (3, 3), activation='relu', input_shape=(img_width, img_height, 3)),\n",
    "    MaxPooling2D((2, 2)),\n",
    "    Conv2D(64, (3, 3), activation='relu'),\n",
    "    MaxPooling2D((2, 2)),\n",
    "    Conv2D(128, (3, 3), activation='relu'),\n",
    "    MaxPooling2D((2, 2)),\n",
    "    Conv2D(128, (3, 3), activation='relu'),\n",
    "    MaxPooling2D((2, 2)),\n",
    "    Flatten(),\n",
    "    Dense(512, activation='relu'),\n",
    "    Dense(8, activation='softmax')  # Adjust the number of output neurons to 8\n",
    "])\n",
    "\n",
    "\n",
    "\n",
    "# Compile the model\n",
    "model.compile(optimizer='adam',\n",
    "              loss='categorical_crossentropy',\n",
    "              metrics=['accuracy'])\n"
   ]
  },
  {
   "cell_type": "code",
   "execution_count": 7,
   "id": "d89df366",
   "metadata": {},
   "outputs": [
    {
     "name": "stdout",
     "output_type": "stream",
     "text": [
      "Epoch 1/10\n"
     ]
    },
    {
     "name": "stderr",
     "output_type": "stream",
     "text": [
      "C:\\Users\\CHIRANJI\\AppData\\Roaming\\Python\\Python311\\site-packages\\keras\\src\\trainers\\data_adapters\\py_dataset_adapter.py:120: UserWarning: Your `PyDataset` class should call `super().__init__(**kwargs)` in its constructor. `**kwargs` can include `workers`, `use_multiprocessing`, `max_queue_size`. Do not pass these arguments to `fit()`, as they will be ignored.\n",
      "  self._warn_if_super_not_called()\n"
     ]
    },
    {
     "name": "stdout",
     "output_type": "stream",
     "text": [
      "\u001b[1m193/193\u001b[0m \u001b[32m━━━━━━━━━━━━━━━━━━━━\u001b[0m\u001b[37m\u001b[0m \u001b[1m83s\u001b[0m 419ms/step - accuracy: 0.2540 - loss: 1.7800 - val_accuracy: 0.3926 - val_loss: 1.4695\n",
      "Epoch 2/10\n",
      "\u001b[1m193/193\u001b[0m \u001b[32m━━━━━━━━━━━━━━━━━━━━\u001b[0m\u001b[37m\u001b[0m \u001b[1m0s\u001b[0m 302us/step - accuracy: 0.3438 - loss: 0.7152 - val_accuracy: 0.5000 - val_loss: 0.7833\n",
      "Epoch 3/10\n"
     ]
    },
    {
     "name": "stderr",
     "output_type": "stream",
     "text": [
      "D:\\UOB\\Anaconda\\Lib\\contextlib.py:155: UserWarning: Your input ran out of data; interrupting training. Make sure that your dataset or generator can generate at least `steps_per_epoch * epochs` batches. You may need to use the `.repeat()` function when building your dataset.\n",
      "  self.gen.throw(typ, value, traceback)\n"
     ]
    },
    {
     "name": "stdout",
     "output_type": "stream",
     "text": [
      "\u001b[1m193/193\u001b[0m \u001b[32m━━━━━━━━━━━━━━━━━━━━\u001b[0m\u001b[37m\u001b[0m \u001b[1m84s\u001b[0m 431ms/step - accuracy: 0.5027 - loss: 1.2313 - val_accuracy: 0.5124 - val_loss: 1.2432\n",
      "Epoch 4/10\n",
      "\u001b[1m193/193\u001b[0m \u001b[32m━━━━━━━━━━━━━━━━━━━━\u001b[0m\u001b[37m\u001b[0m \u001b[1m0s\u001b[0m 190us/step - accuracy: 0.6562 - loss: 0.4523 - val_accuracy: 0.6000 - val_loss: 0.6264\n",
      "Epoch 5/10\n",
      "\u001b[1m193/193\u001b[0m \u001b[32m━━━━━━━━━━━━━━━━━━━━\u001b[0m\u001b[37m\u001b[0m \u001b[1m83s\u001b[0m 423ms/step - accuracy: 0.6578 - loss: 0.9055 - val_accuracy: 0.5964 - val_loss: 1.1755\n",
      "Epoch 6/10\n",
      "\u001b[1m193/193\u001b[0m \u001b[32m━━━━━━━━━━━━━━━━━━━━\u001b[0m\u001b[37m\u001b[0m \u001b[1m0s\u001b[0m 214us/step - accuracy: 0.7500 - loss: 0.2856 - val_accuracy: 0.5000 - val_loss: 0.6699\n",
      "Epoch 7/10\n",
      "\u001b[1m193/193\u001b[0m \u001b[32m━━━━━━━━━━━━━━━━━━━━\u001b[0m\u001b[37m\u001b[0m \u001b[1m156s\u001b[0m 803ms/step - accuracy: 0.7416 - loss: 0.6918 - val_accuracy: 0.6270 - val_loss: 1.0198\n",
      "Epoch 8/10\n",
      "\u001b[1m193/193\u001b[0m \u001b[32m━━━━━━━━━━━━━━━━━━━━\u001b[0m\u001b[37m\u001b[0m \u001b[1m0s\u001b[0m 390us/step - accuracy: 0.8438 - loss: 0.2366 - val_accuracy: 0.7000 - val_loss: 0.4563\n",
      "Epoch 9/10\n",
      "\u001b[1m193/193\u001b[0m \u001b[32m━━━━━━━━━━━━━━━━━━━━\u001b[0m\u001b[37m\u001b[0m \u001b[1m83s\u001b[0m 420ms/step - accuracy: 0.7942 - loss: 0.5411 - val_accuracy: 0.6380 - val_loss: 1.4000\n",
      "Epoch 10/10\n",
      "\u001b[1m193/193\u001b[0m \u001b[32m━━━━━━━━━━━━━━━━━━━━\u001b[0m\u001b[37m\u001b[0m \u001b[1m0s\u001b[0m 207us/step - accuracy: 0.8125 - loss: 0.2009 - val_accuracy: 0.8000 - val_loss: 0.8440\n"
     ]
    }
   ],
   "source": [
    "history = model.fit(\n",
    "    train_generator,\n",
    "    steps_per_epoch=train_generator.samples // batch_size,\n",
    "    epochs=10,\n",
    "    validation_data=validation_generator,\n",
    "    validation_steps=validation_generator.samples // batch_size\n",
    ")\n",
    "\n",
    "\n"
   ]
  },
  {
   "cell_type": "code",
   "execution_count": 8,
   "id": "66e12456",
   "metadata": {},
   "outputs": [
    {
     "name": "stdout",
     "output_type": "stream",
     "text": [
      "Epoch 1/10\n",
      "\u001b[1m193/193\u001b[0m \u001b[32m━━━━━━━━━━━━━━━━━━━━\u001b[0m\u001b[37m\u001b[0m \u001b[1m99s\u001b[0m 502ms/step - accuracy: 0.8333 - loss: 0.4534 - val_accuracy: 0.6504 - val_loss: 1.3192\n",
      "Epoch 2/10\n",
      "\u001b[1m193/193\u001b[0m \u001b[32m━━━━━━━━━━━━━━━━━━━━\u001b[0m\u001b[37m\u001b[0m \u001b[1m0s\u001b[0m 364us/step - accuracy: 0.7188 - loss: 0.3907 - val_accuracy: 0.9000 - val_loss: 0.2227\n",
      "Epoch 3/10\n",
      "\u001b[1m193/193\u001b[0m \u001b[32m━━━━━━━━━━━━━━━━━━━━\u001b[0m\u001b[37m\u001b[0m \u001b[1m106s\u001b[0m 541ms/step - accuracy: 0.8661 - loss: 0.3661 - val_accuracy: 0.5938 - val_loss: 1.5656\n",
      "Epoch 4/10\n",
      "\u001b[1m193/193\u001b[0m \u001b[32m━━━━━━━━━━━━━━━━━━━━\u001b[0m\u001b[37m\u001b[0m \u001b[1m0s\u001b[0m 700us/step - accuracy: 0.6875 - loss: 0.4560 - val_accuracy: 0.4000 - val_loss: 1.0619\n",
      "Epoch 5/10\n",
      "\u001b[1m193/193\u001b[0m \u001b[32m━━━━━━━━━━━━━━━━━━━━\u001b[0m\u001b[37m\u001b[0m \u001b[1m103s\u001b[0m 524ms/step - accuracy: 0.8751 - loss: 0.3511 - val_accuracy: 0.6784 - val_loss: 1.1759\n",
      "Epoch 6/10\n",
      "\u001b[1m193/193\u001b[0m \u001b[32m━━━━━━━━━━━━━━━━━━━━\u001b[0m\u001b[37m\u001b[0m \u001b[1m0s\u001b[0m 465us/step - accuracy: 0.8125 - loss: 0.1862 - val_accuracy: 0.7000 - val_loss: 0.4960\n",
      "Epoch 7/10\n",
      "\u001b[1m193/193\u001b[0m \u001b[32m━━━━━━━━━━━━━━━━━━━━\u001b[0m\u001b[37m\u001b[0m \u001b[1m100s\u001b[0m 506ms/step - accuracy: 0.9181 - loss: 0.2345 - val_accuracy: 0.6960 - val_loss: 1.2181\n",
      "Epoch 8/10\n",
      "\u001b[1m193/193\u001b[0m \u001b[32m━━━━━━━━━━━━━━━━━━━━\u001b[0m\u001b[37m\u001b[0m \u001b[1m0s\u001b[0m 235us/step - accuracy: 0.9375 - loss: 0.0815 - val_accuracy: 0.8000 - val_loss: 0.5382\n",
      "Epoch 9/10\n",
      "\u001b[1m193/193\u001b[0m \u001b[32m━━━━━━━━━━━━━━━━━━━━\u001b[0m\u001b[37m\u001b[0m \u001b[1m98s\u001b[0m 501ms/step - accuracy: 0.9256 - loss: 0.2132 - val_accuracy: 0.6895 - val_loss: 1.4221\n",
      "Epoch 10/10\n",
      "\u001b[1m193/193\u001b[0m \u001b[32m━━━━━━━━━━━━━━━━━━━━\u001b[0m\u001b[37m\u001b[0m \u001b[1m0s\u001b[0m 261us/step - accuracy: 0.9062 - loss: 0.1661 - val_accuracy: 0.6000 - val_loss: 0.5475\n"
     ]
    }
   ],
   "source": [
    "history = model.fit(\n",
    "    train_generator,\n",
    "    steps_per_epoch=train_generator.samples // batch_size,\n",
    "    epochs=10,\n",
    "    validation_data=validation_generator,\n",
    "    validation_steps=validation_generator.samples // batch_size\n",
    ")"
   ]
  },
  {
   "cell_type": "code",
   "execution_count": 9,
   "id": "96580eba",
   "metadata": {},
   "outputs": [
    {
     "name": "stdout",
     "output_type": "stream",
     "text": [
      "\u001b[1m49/49\u001b[0m \u001b[32m━━━━━━━━━━━━━━━━━━━━\u001b[0m\u001b[37m\u001b[0m \u001b[1m14s\u001b[0m 274ms/step - accuracy: 0.6971 - loss: 1.3819\n",
      "Validation Accuracy: 68.37%\n"
     ]
    }
   ],
   "source": [
    "# Evaluate the model\n",
    "loss, accuracy = model.evaluate(validation_generator)\n",
    "print(\"Validation Accuracy: {:.2f}%\".format(accuracy * 100))"
   ]
  },
  {
   "cell_type": "code",
   "execution_count": 10,
   "id": "3ada6a54",
   "metadata": {},
   "outputs": [
    {
     "data": {
      "image/png": "[encoded data removed]",
      "text/plain": [
       "<Figure size 640x480 with 1 Axes>"
      ]
     },
     "metadata": {},
     "output_type": "display_data"
    }
   ],
   "source": [
    "# Plot training & validation accuracy values\n",
    "plt.plot(history.history['accuracy'])\n",
    "plt.plot(history.history['val_accuracy'])\n",
    "plt.title('Model accuracy')\n",
    "plt.xlabel('Epoch')\n",
    "plt.ylabel('Accuracy')\n",
    "plt.legend(['Train', 'Validation'], loc='upper left')\n",
    "plt.show()\n",
    "\n"
   ]
  },
  {
   "cell_type": "code",
   "execution_count": 11,
   "id": "abfcba8b",
   "metadata": {},
   "outputs": [
    {
     "data": {
      "image/png": "[encoded data removed]",
      "text/plain": [
       "<Figure size 640x480 with 1 Axes>"
      ]
     },
     "metadata": {},
     "output_type": "display_data"
    }
   ],
   "source": [
    "# Plot training & validation loss values\n",
    "plt.plot(history.history['loss'])\n",
    "plt.plot(history.history['val_loss'])\n",
    "plt.title('Model loss')\n",
    "plt.xlabel('Epoch')\n",
    "plt.ylabel('Loss')\n",
    "plt.legend(['Train', 'Validation'], loc='upper left')\n",
    "plt.show()\n"
   ]
  },
  {
   "cell_type": "code",
   "execution_count": 12,
   "id": "d8d0505f",
   "metadata": {},
   "outputs": [
    {
     "name": "stdout",
     "output_type": "stream",
     "text": [
      "\u001b[1m49/49\u001b[0m \u001b[32m━━━━━━━━━━━━━━━━━━━━\u001b[0m\u001b[37m\u001b[0m \u001b[1m24s\u001b[0m 470ms/step\n",
      "Confusion Matrix:\n",
      "[[  9   7  15  28  11   5   9  16]\n",
      " [  3   9  22  25  14   5   7  15]\n",
      " [ 15  14  48  67  32  16  11  43]\n",
      " [ 24   8  57 101  39  15  19  61]\n",
      " [ 36  21  77  94  37  13  23  51]\n",
      " [  5   5  13  35   9   9   6  18]\n",
      " [  9   6  27  28  15   3   1  11]\n",
      " [ 15  12  48  60  31  10   9  39]]\n"
     ]
    }
   ],
   "source": [
    "from sklearn.metrics import confusion_matrix, classification_report\n",
    "\n",
    "# Predict classes\n",
    "predictions = model.predict(validation_generator)\n",
    "predicted_classes = np.argmax(predictions, axis=1)\n",
    "true_classes = validation_generator.classes\n",
    "\n",
    "# Generate confusion matrix\n",
    "cm = confusion_matrix(true_classes, predicted_classes)\n",
    "print(\"Confusion Matrix:\")\n",
    "print(cm)\n",
    "\n"
   ]
  },
  {
   "cell_type": "code",
   "execution_count": 13,
   "id": "3a056aff",
   "metadata": {},
   "outputs": [
    {
     "name": "stdout",
     "output_type": "stream",
     "text": [
      "\n",
      "Classification Report:\n",
      "              precision    recall  f1-score   support\n",
      "\n",
      "           0       0.08      0.09      0.08       100\n",
      "           1       0.11      0.09      0.10       100\n",
      "           2       0.16      0.20      0.17       246\n",
      "           3       0.23      0.31      0.27       324\n",
      "           4       0.20      0.11      0.14       352\n",
      "           5       0.12      0.09      0.10       100\n",
      "           6       0.01      0.01      0.01       100\n",
      "           7       0.15      0.17      0.16       224\n",
      "\n",
      "    accuracy                           0.16      1546\n",
      "   macro avg       0.13      0.13      0.13      1546\n",
      "weighted avg       0.16      0.16      0.16      1546\n",
      "\n"
     ]
    }
   ],
   "source": [
    "# Generate classification report\n",
    "print(\"\\nClassification Report:\")\n",
    "print(classification_report(true_classes, predicted_classes))"
   ]
  },
  {
   "cell_type": "code",
   "execution_count": 14,
   "id": "61b6d02b",
   "metadata": {},
   "outputs": [
    {
     "name": "stderr",
     "output_type": "stream",
     "text": [
      "WARNING:absl:You are saving your model as an HDF5 file via `model.save()` or `keras.saving.save_model(model)`. This file format is considered legacy. We recommend using instead the native Keras format, e.g. `model.save('my_model.keras')` or `keras.saving.save_model(model, 'my_model.keras')`. \n"
     ]
    }
   ],
   "source": [
    "# Save the model\n",
    "model.save(\"cricket_shot_classifier.h5\")\n"
   ]
  },
  {
   "cell_type": "code",
   "execution_count": 15,
   "id": "f620bd6e",
   "metadata": {},
   "outputs": [
    {
     "name": "stderr",
     "output_type": "stream",
     "text": [
      "WARNING:absl:Compiled the loaded model, but the compiled metrics have yet to be built. `model.compile_metrics` will be empty until you train or evaluate the model.\n"
     ]
    }
   ],
   "source": [
    "# Load the model\n",
    "loaded_model = tf.keras.models.load_model(\"cricket_shot_classifier.h5\")\n"
   ]
  },
  {
   "cell_type": "code",
   "execution_count": 28,
   "id": "edad4c24",
   "metadata": {},
   "outputs": [
    {
     "name": "stdout",
     "output_type": "stream",
     "text": [
      "\u001b[1m1/1\u001b[0m \u001b[32m━━━━━━━━━━━━━━━━━━━━\u001b[0m\u001b[37m\u001b[0m \u001b[1m0s\u001b[0m 35ms/step\n",
      "Predicted class: 4\n"
     ]
    }
   ],
   "source": [
    "import tensorflow as tf\n",
    "import numpy as np\n",
    "\n",
    "# Load a single image for prediction\n",
    "img_path = r\"C:\\Users\\CHIRANJI\\Desktop\\c_shotimages\\pullshot\\pullshot1.png\"  # Update with the correct image path\n",
    "img = tf.keras.preprocessing.image.load_img(img_path, target_size=(img_width, img_height))\n",
    "img_array = tf.keras.preprocessing.image.img_to_array(img)\n",
    "img_array = tf.expand_dims(img_array, 0)  # Create batch axis\n",
    "\n",
    "# Predict class\n",
    "predictions = loaded_model.predict(img_array)\n",
    "predicted_class = np.argmax(predictions)\n",
    "\n",
    "\n",
    "# Print the predicted class\n",
    "print(\"Predicted class:\", predicted_class)"
   ]
  },
  {
   "cell_type": "code",
   "execution_count": 29,
   "id": "5f1bdeca",
   "metadata": {},
   "outputs": [
    {
     "name": "stdout",
     "output_type": "stream",
     "text": [
      "\u001b[1m1/1\u001b[0m \u001b[32m━━━━━━━━━━━━━━━━━━━━\u001b[0m\u001b[37m\u001b[0m \u001b[1m0s\u001b[0m 56ms/step\n",
      "Predicted class index: 2\n",
      "Predicted class name: drive\n"
     ]
    }
   ],
   "source": [
    "# Define class labels\n",
    "class_labels = [\"coverdrive\", \"cut\", \"drive\", \"legglance\", \"pullshot\", \"scoop\", \"straightdrive\", \"sweep\"]\n",
    "\n",
    "# Load a single image for prediction\n",
    "img_path = r\"C:\\Users\\CHIRANJI\\Desktop\\c_shotimages\\drive\\drives5.png\"  # Update with the correct image path\n",
    "img = tf.keras.preprocessing.image.load_img(img_path, target_size=(img_width, img_height))\n",
    "img_array = tf.keras.preprocessing.image.img_to_array(img)\n",
    "img_array = tf.expand_dims(img_array, 0)  # Create batch axis\n",
    "\n",
    "# Predict class\n",
    "predictions = loaded_model.predict(img_array)\n",
    "predicted_class_idx = np.argmax(predictions)\n",
    "\n",
    "# Get the predicted class name\n",
    "predicted_class_label = class_labels[predicted_class_idx]\n",
    "\n",
    "# Print the predicted class index and name\n",
    "print(\"Predicted class index:\", predicted_class_idx)\n",
    "print(\"Predicted class name:\", predicted_class_label)\n"
   ]
  },
  {
   "cell_type": "code",
   "execution_count": 30,
   "id": "290a6643",
   "metadata": {},
   "outputs": [
    {
     "name": "stdout",
     "output_type": "stream",
     "text": [
      "\u001b[1m1/1\u001b[0m \u001b[32m━━━━━━━━━━━━━━━━━━━━\u001b[0m\u001b[37m\u001b[0m \u001b[1m0s\u001b[0m 37ms/step\n",
      "Predicted class index: 4\n",
      "Predicted class name: pullshot\n"
     ]
    }
   ],
   "source": [
    "# Define class labels\n",
    "class_labels = [\"coverdrive\", \"cut\", \"drive\", \"legglance\", \"pullshot\", \"scoop\", \"straightdrive\", \"sweep\"]\n",
    "\n",
    "# Load a single image for prediction\n",
    "img_path = r\"C:\\Users\\CHIRANJI\\Desktop\\c_shotimages\\pullshot\\pullshot1.png\"   # Update with the correct image path\n",
    "img = tf.keras.preprocessing.image.load_img(img_path, target_size=(img_width, img_height))\n",
    "img_array = tf.keras.preprocessing.image.img_to_array(img)\n",
    "img_array = tf.expand_dims(img_array, 0)  # Create batch axis\n",
    "\n",
    "# Predict class\n",
    "predictions = loaded_model.predict(img_array)\n",
    "predicted_class_idx = np.argmax(predictions)\n",
    "\n",
    "# Get the predicted class name\n",
    "predicted_class_label = class_labels[predicted_class_idx]\n",
    "\n",
    "# Print the predicted class index and name\n",
    "print(\"Predicted class index:\", predicted_class_idx)\n",
    "print(\"Predicted class name:\", predicted_class_label)\n"
   ]
  },
  {
   "cell_type": "code",
   "execution_count": 31,
   "id": "2a91400b",
   "metadata": {},
   "outputs": [
    {
     "name": "stdout",
     "output_type": "stream",
     "text": [
      "\u001b[1m1/1\u001b[0m \u001b[32m━━━━━━━━━━━━━━━━━━━━\u001b[0m\u001b[37m\u001b[0m \u001b[1m0s\u001b[0m 65ms/step\n",
      "Predicted class index: 7\n",
      "Predicted class name: sweep\n"
     ]
    }
   ],
   "source": [
    "# Define class labels\n",
    "class_labels = [\"coverdrive\", \"cut\", \"drive\", \"legglance\", \"pullshot\", \"scoop\", \"straightdrive\", \"sweep\"]\n",
    "\n",
    "# Load a single image for prediction\n",
    "img_path = r\"C:\\Users\\CHIRANJI\\Desktop\\c_shotimages\\sweep\\sweep5.png\"   # Update with the correct image path\n",
    "img = tf.keras.preprocessing.image.load_img(img_path, target_size=(img_width, img_height))\n",
    "img_array = tf.keras.preprocessing.image.img_to_array(img)\n",
    "img_array = tf.expand_dims(img_array, 0)  # Create batch axis\n",
    "\n",
    "# Predict class\n",
    "predictions = loaded_model.predict(img_array)\n",
    "predicted_class_idx = np.argmax(predictions)\n",
    "\n",
    "# Get the predicted class name\n",
    "predicted_class_label = class_labels[predicted_class_idx]\n",
    "\n",
    "# Print the predicted class index and name\n",
    "print(\"Predicted class index:\", predicted_class_idx)\n",
    "print(\"Predicted class name:\", predicted_class_label)\n"
   ]
  },
  {
   "cell_type": "code",
   "execution_count": 32,
   "id": "d029f3bb",
   "metadata": {},
   "outputs": [
    {
     "name": "stdout",
     "output_type": "stream",
     "text": [
      "\u001b[1m1/1\u001b[0m \u001b[32m━━━━━━━━━━━━━━━━━━━━\u001b[0m\u001b[37m\u001b[0m \u001b[1m0s\u001b[0m 39ms/step\n",
      "Predicted class index: 1\n",
      "Predicted class name: cut\n"
     ]
    }
   ],
   "source": [
    "# Define class labels\n",
    "class_labels = [\"coverdrive\", \"cut\", \"drive\", \"legglance\", \"pullshot\", \"scoop\", \"straightdrive\", \"sweep\"]\n",
    "\n",
    "# Load a single image for prediction\n",
    "img_path = r\"C:\\Users\\CHIRANJI\\Desktop\\c_shotimages\\coverdrive\\coverdrive6.png\"   # Update with the correct image path\n",
    "img = tf.keras.preprocessing.image.load_img(img_path, target_size=(img_width, img_height))\n",
    "img_array = tf.keras.preprocessing.image.img_to_array(img)\n",
    "img_array = tf.expand_dims(img_array, 0)  # Create batch axis\n",
    "\n",
    "# Predict class\n",
    "predictions = loaded_model.predict(img_array)\n",
    "predicted_class_idx = np.argmax(predictions)\n",
    "\n",
    "# Get the predicted class name\n",
    "predicted_class_label = class_labels[predicted_class_idx]\n",
    "\n",
    "# Print the predicted class index and name\n",
    "print(\"Predicted class index:\", predicted_class_idx)\n",
    "print(\"Predicted class name:\", predicted_class_label)"
   ]
  },
  {
   "cell_type": "code",
   "execution_count": 33,
   "id": "c6c554fa",
   "metadata": {},
   "outputs": [
    {
     "name": "stdout",
     "output_type": "stream",
     "text": [
      "\u001b[1m1/1\u001b[0m \u001b[32m━━━━━━━━━━━━━━━━━━━━\u001b[0m\u001b[37m\u001b[0m \u001b[1m0s\u001b[0m 41ms/step\n",
      "Predicted class index: 1\n",
      "Predicted class name: cut\n"
     ]
    }
   ],
   "source": [
    "# Define class labels\n",
    "class_labels = [\"coverdrive\", \"cut\", \"drive\", \"legglance\", \"pullshot\", \"scoop\", \"straightdrive\", \"sweep\"]\n",
    "\n",
    "# Load a single image for prediction\n",
    "img_path = r\"C:\\Users\\CHIRANJI\\Desktop\\c_shotimages\\cut\\cut2.png\"   # Update with the correct image path\n",
    "img = tf.keras.preprocessing.image.load_img(img_path, target_size=(img_width, img_height))\n",
    "img_array = tf.keras.preprocessing.image.img_to_array(img)\n",
    "img_array = tf.expand_dims(img_array, 0)  # Create batch axis\n",
    "\n",
    "# Predict class\n",
    "predictions = loaded_model.predict(img_array)\n",
    "predicted_class_idx = np.argmax(predictions)\n",
    "\n",
    "# Get the predicted class name\n",
    "predicted_class_label = class_labels[predicted_class_idx]\n",
    "\n",
    "# Print the predicted class index and name\n",
    "print(\"Predicted class index:\", predicted_class_idx)\n",
    "print(\"Predicted class name:\", predicted_class_label)"
   ]
  },
  {
   "cell_type": "code",
   "execution_count": null,
   "id": "e5070b00",
   "metadata": {},
   "outputs": [],
   "source": []
  }
 ],
 "metadata": {
  "kernelspec": {
   "display_name": "Python 3 (ipykernel)",
   "language": "python",
   "name": "python3"
  },
  "language_info": {
   "codemirror_mode": {
    "name": "ipython",
    "version": 3
   },
   "file_extension": ".py",
   "mimetype": "text/x-python",
   "name": "python",
   "nbconvert_exporter": "python",
   "pygments_lexer": "ipython3",
   "version": "3.11.5"
  }
 },
 "nbformat": 4,
 "nbformat_minor": 5
}
